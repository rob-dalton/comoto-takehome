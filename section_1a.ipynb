{
 "cells": [
  {
   "cell_type": "markdown",
   "id": "5276fd6d",
   "metadata": {},
   "source": [
    "# Section 1\n",
    "Clean data in `ecom_data.csv`\n",
    "\n",
    "## Load"
   ]
  },
  {
   "cell_type": "code",
   "execution_count": 33,
   "id": "464dc1c6",
   "metadata": {},
   "outputs": [],
   "source": [
    "import pandas as pd\n",
    "from datetime import date\n",
    "\n",
    "df = pd.read_csv(\n",
    "    'ecom_data.csv',\n",
    "    dtype={\n",
    "        'SalesOrder': str,\n",
    "        'SKU': str,\n",
    "        'Description': str,\n",
    "        'UnitPrice': float,\n",
    "        'CustomerID': int,\n",
    "        'Channel': str,\n",
    "        'State': str,\n",
    "        'Sales': float,\n",
    "        'Quantity': int\n",
    "    },\n",
    "    converters={\n",
    "        'InvoiceDay': date.fromisoformat\n",
    "    })"
   ]
  },
  {
   "cell_type": "markdown",
   "id": "90009e01",
   "metadata": {},
   "source": [
    "## Clean\n",
    "First, let's examine what the data looks like:"
   ]
  },
  {
   "cell_type": "code",
   "execution_count": 34,
   "id": "904a6dcf",
   "metadata": {},
   "outputs": [
    {
     "data": {
      "text/html": [
       "<div>\n",
       "<style scoped>\n",
       "    .dataframe tbody tr th:only-of-type {\n",
       "        vertical-align: middle;\n",
       "    }\n",
       "\n",
       "    .dataframe tbody tr th {\n",
       "        vertical-align: top;\n",
       "    }\n",
       "\n",
       "    .dataframe thead th {\n",
       "        text-align: right;\n",
       "    }\n",
       "</style>\n",
       "<table border=\"1\" class=\"dataframe\">\n",
       "  <thead>\n",
       "    <tr style=\"text-align: right;\">\n",
       "      <th></th>\n",
       "      <th>SalesOrder</th>\n",
       "      <th>SKU</th>\n",
       "      <th>Description</th>\n",
       "      <th>UnitPrice</th>\n",
       "      <th>CustomerID</th>\n",
       "      <th>Channel</th>\n",
       "      <th>State</th>\n",
       "      <th>InvoiceDay</th>\n",
       "      <th>Sales</th>\n",
       "      <th>Quantity</th>\n",
       "    </tr>\n",
       "  </thead>\n",
       "  <tbody>\n",
       "    <tr>\n",
       "      <th>0</th>\n",
       "      <td>580636</td>\n",
       "      <td>22474</td>\n",
       "      <td>SPACEBOY TV DINNER TRAY</td>\n",
       "      <td>1.95</td>\n",
       "      <td>16746</td>\n",
       "      <td>Mailing</td>\n",
       "      <td>IL</td>\n",
       "      <td>2011-12-05</td>\n",
       "      <td>31.20</td>\n",
       "      <td>16</td>\n",
       "    </tr>\n",
       "    <tr>\n",
       "      <th>1</th>\n",
       "      <td>581426</td>\n",
       "      <td>70006</td>\n",
       "      <td>LOVE HEART POCKET WARMER</td>\n",
       "      <td>0.79</td>\n",
       "      <td>17757</td>\n",
       "      <td>Organic Social</td>\n",
       "      <td>WA</td>\n",
       "      <td>2011-12-08</td>\n",
       "      <td>2.37</td>\n",
       "      <td>3</td>\n",
       "    </tr>\n",
       "    <tr>\n",
       "      <th>2</th>\n",
       "      <td>575063</td>\n",
       "      <td>22697</td>\n",
       "      <td>GREEN REGENCY TEACUP AND SAUCER</td>\n",
       "      <td>2.95</td>\n",
       "      <td>16764</td>\n",
       "      <td>Display</td>\n",
       "      <td>TX</td>\n",
       "      <td>2011-11-08</td>\n",
       "      <td>8.85</td>\n",
       "      <td>3</td>\n",
       "    </tr>\n",
       "    <tr>\n",
       "      <th>3</th>\n",
       "      <td>544065</td>\n",
       "      <td>20726</td>\n",
       "      <td>LUNCH BAG WOODLAND</td>\n",
       "      <td>1.65</td>\n",
       "      <td>14346</td>\n",
       "      <td>Organic Social</td>\n",
       "      <td>TX</td>\n",
       "      <td>2011-02-15</td>\n",
       "      <td>13.20</td>\n",
       "      <td>8</td>\n",
       "    </tr>\n",
       "    <tr>\n",
       "      <th>4</th>\n",
       "      <td>568896</td>\n",
       "      <td>85049E</td>\n",
       "      <td>SCANDINAVIAN REDS RIBBONS</td>\n",
       "      <td>1.25</td>\n",
       "      <td>16361</td>\n",
       "      <td>Store</td>\n",
       "      <td>NY</td>\n",
       "      <td>2011-09-29</td>\n",
       "      <td>52.50</td>\n",
       "      <td>42</td>\n",
       "    </tr>\n",
       "    <tr>\n",
       "      <th>5</th>\n",
       "      <td>559542</td>\n",
       "      <td>23209</td>\n",
       "      <td>LUNCH BAG DOILEY PATTERN</td>\n",
       "      <td>1.65</td>\n",
       "      <td>17126</td>\n",
       "      <td>Email</td>\n",
       "      <td>CA</td>\n",
       "      <td>2011-07-10</td>\n",
       "      <td>9.90</td>\n",
       "      <td>6</td>\n",
       "    </tr>\n",
       "    <tr>\n",
       "      <th>6</th>\n",
       "      <td>569868</td>\n",
       "      <td>23493</td>\n",
       "      <td>VINTAGE DOILY TRAVEL SEWING KIT</td>\n",
       "      <td>1.95</td>\n",
       "      <td>13018</td>\n",
       "      <td>Organic Social</td>\n",
       "      <td>MO</td>\n",
       "      <td>2011-10-06</td>\n",
       "      <td>15.60</td>\n",
       "      <td>8</td>\n",
       "    </tr>\n",
       "    <tr>\n",
       "      <th>7</th>\n",
       "      <td>575303</td>\n",
       "      <td>23321</td>\n",
       "      <td>SMALL WHITE HEART OF WICKER</td>\n",
       "      <td>1.65</td>\n",
       "      <td>12893</td>\n",
       "      <td>Store</td>\n",
       "      <td>IA</td>\n",
       "      <td>2011-11-09</td>\n",
       "      <td>13.20</td>\n",
       "      <td>8</td>\n",
       "    </tr>\n",
       "    <tr>\n",
       "      <th>8</th>\n",
       "      <td>567145</td>\n",
       "      <td>21154</td>\n",
       "      <td>RED RETROSPOT OVEN GLOVE</td>\n",
       "      <td>1.25</td>\n",
       "      <td>12921</td>\n",
       "      <td>Organic Social</td>\n",
       "      <td>AK</td>\n",
       "      <td>2011-09-16</td>\n",
       "      <td>10.00</td>\n",
       "      <td>8</td>\n",
       "    </tr>\n",
       "    <tr>\n",
       "      <th>9</th>\n",
       "      <td>574444</td>\n",
       "      <td>21967</td>\n",
       "      <td>PACK OF 12 SKULL TISSUES</td>\n",
       "      <td>0.39</td>\n",
       "      <td>18122</td>\n",
       "      <td>Store</td>\n",
       "      <td>CA</td>\n",
       "      <td>2011-11-04</td>\n",
       "      <td>39.78</td>\n",
       "      <td>102</td>\n",
       "    </tr>\n",
       "  </tbody>\n",
       "</table>\n",
       "</div>"
      ],
      "text/plain": [
       "  SalesOrder     SKU                      Description  UnitPrice  CustomerID  \\\n",
       "0     580636   22474          SPACEBOY TV DINNER TRAY       1.95       16746   \n",
       "1     581426   70006         LOVE HEART POCKET WARMER       0.79       17757   \n",
       "2     575063   22697  GREEN REGENCY TEACUP AND SAUCER       2.95       16764   \n",
       "3     544065   20726               LUNCH BAG WOODLAND       1.65       14346   \n",
       "4     568896  85049E        SCANDINAVIAN REDS RIBBONS       1.25       16361   \n",
       "5     559542   23209        LUNCH BAG DOILEY PATTERN        1.65       17126   \n",
       "6     569868   23493  VINTAGE DOILY TRAVEL SEWING KIT       1.95       13018   \n",
       "7     575303   23321      SMALL WHITE HEART OF WICKER       1.65       12893   \n",
       "8     567145   21154        RED RETROSPOT OVEN GLOVE        1.25       12921   \n",
       "9     574444   21967         PACK OF 12 SKULL TISSUES       0.39       18122   \n",
       "\n",
       "          Channel State  InvoiceDay  Sales  Quantity  \n",
       "0         Mailing    IL  2011-12-05  31.20        16  \n",
       "1  Organic Social    WA  2011-12-08   2.37         3  \n",
       "2         Display    TX  2011-11-08   8.85         3  \n",
       "3  Organic Social    TX  2011-02-15  13.20         8  \n",
       "4           Store    NY  2011-09-29  52.50        42  \n",
       "5           Email    CA  2011-07-10   9.90         6  \n",
       "6  Organic Social    MO  2011-10-06  15.60         8  \n",
       "7           Store    IA  2011-11-09  13.20         8  \n",
       "8  Organic Social    AK  2011-09-16  10.00         8  \n",
       "9           Store    CA  2011-11-04  39.78       102  "
      ]
     },
     "execution_count": 34,
     "metadata": {},
     "output_type": "execute_result"
    }
   ],
   "source": [
    "df.head(10)"
   ]
  },
  {
   "cell_type": "markdown",
   "id": "18c4f989",
   "metadata": {},
   "source": [
    "Next, let's check for duplicate rows:"
   ]
  },
  {
   "cell_type": "code",
   "execution_count": 35,
   "id": "95426838",
   "metadata": {},
   "outputs": [
    {
     "name": "stdout",
     "output_type": "stream",
     "text": [
      "Dataset has 406829 rows and 20665 unique SalesOrder values.\n"
     ]
    }
   ],
   "source": [
    "# check for duplicate SalesOrder IDs\n",
    "print(f\"Dataset has {df.shape[0]} rows and {df.SalesOrder.unique().shape[0]} unique SalesOrder values.\")"
   ]
  },
  {
   "cell_type": "markdown",
   "id": "b0fc1e13",
   "metadata": {},
   "source": [
    "John clarified that `SalesOrder` values are sales IDs, so that seems like a lot.\n",
    "\n",
    "A single `SalesOrder` value can be associated with multiple rows. This is because a single sale can contain multiple items, and even identical items sold via different channels (e.g. a single sale could have a row for `SPACEBOY TV DINNER TRAY`s sold via `Mailing`, and another row for those sold via `Store`).\n",
    "\n",
    "However, we would expect there to be only one row for each `SKU` and `Channel` combination on a given sale. So we should safely assume we can dedupe the data."
   ]
  },
  {
   "cell_type": "code",
   "execution_count": 36,
   "id": "11cf1376",
   "metadata": {},
   "outputs": [],
   "source": [
    "# remove duplicate rows\n",
    "df.drop_duplicates(inplace=True)"
   ]
  },
  {
   "cell_type": "markdown",
   "id": "9c696fb0",
   "metadata": {},
   "source": [
    "Next, let's take a look at the range of values in `Quantity` and `Sales`."
   ]
  },
  {
   "cell_type": "code",
   "execution_count": 37,
   "id": "d9ed128a",
   "metadata": {},
   "outputs": [
    {
     "name": "stdout",
     "output_type": "stream",
     "text": [
      "Range for Quantity: (-61437, 97405)\n",
      "Range for Sales: (-127788.96, 127788.96)\n"
     ]
    }
   ],
   "source": [
    "print(f\"Range for Quantity: ({df.Quantity.min()}, {df.Quantity.max()})\")\n",
    "print(f\"Range for Sales: ({df.Sales.min()}, {df.Sales.max()})\")"
   ]
  },
  {
   "cell_type": "markdown",
   "id": "88191406",
   "metadata": {},
   "source": [
    "So, both can be negative or positive. We expect this because (as John clarified), the dataset also contains refunds, which have negative `Quantity` and `Sales` values. Let's take a look at a few refunds:"
   ]
  },
  {
   "cell_type": "code",
   "execution_count": 38,
   "id": "4d7c2b4f",
   "metadata": {},
   "outputs": [
    {
     "data": {
      "text/html": [
       "<div>\n",
       "<style scoped>\n",
       "    .dataframe tbody tr th:only-of-type {\n",
       "        vertical-align: middle;\n",
       "    }\n",
       "\n",
       "    .dataframe tbody tr th {\n",
       "        vertical-align: top;\n",
       "    }\n",
       "\n",
       "    .dataframe thead th {\n",
       "        text-align: right;\n",
       "    }\n",
       "</style>\n",
       "<table border=\"1\" class=\"dataframe\">\n",
       "  <thead>\n",
       "    <tr style=\"text-align: right;\">\n",
       "      <th></th>\n",
       "      <th>SalesOrder</th>\n",
       "      <th>SKU</th>\n",
       "      <th>Description</th>\n",
       "      <th>UnitPrice</th>\n",
       "      <th>CustomerID</th>\n",
       "      <th>Channel</th>\n",
       "      <th>State</th>\n",
       "      <th>InvoiceDay</th>\n",
       "      <th>Sales</th>\n",
       "      <th>Quantity</th>\n",
       "    </tr>\n",
       "  </thead>\n",
       "  <tbody>\n",
       "    <tr>\n",
       "      <th>166</th>\n",
       "      <td>C573283</td>\n",
       "      <td>22776</td>\n",
       "      <td>SWEETHEART 3 TIER CAKE STAND</td>\n",
       "      <td>9.95</td>\n",
       "      <td>18030</td>\n",
       "      <td>Email</td>\n",
       "      <td>IL</td>\n",
       "      <td>2011-10-28</td>\n",
       "      <td>-19.90</td>\n",
       "      <td>-2</td>\n",
       "    </tr>\n",
       "    <tr>\n",
       "      <th>184</th>\n",
       "      <td>C538341</td>\n",
       "      <td>22726</td>\n",
       "      <td>ALARM CLOCK BAKELIKE GREEN</td>\n",
       "      <td>3.75</td>\n",
       "      <td>15514</td>\n",
       "      <td>SEO</td>\n",
       "      <td>CA</td>\n",
       "      <td>2010-12-10</td>\n",
       "      <td>-18.75</td>\n",
       "      <td>-5</td>\n",
       "    </tr>\n",
       "    <tr>\n",
       "      <th>247</th>\n",
       "      <td>C569114</td>\n",
       "      <td>22832</td>\n",
       "      <td>BROCANTE SHELF WITH HOOKS</td>\n",
       "      <td>10.75</td>\n",
       "      <td>14911</td>\n",
       "      <td>Email</td>\n",
       "      <td>CA</td>\n",
       "      <td>2011-09-30</td>\n",
       "      <td>-43.00</td>\n",
       "      <td>-4</td>\n",
       "    </tr>\n",
       "    <tr>\n",
       "      <th>356</th>\n",
       "      <td>C537788</td>\n",
       "      <td>16202E</td>\n",
       "      <td>BLACK PHOTO ALBUM</td>\n",
       "      <td>5.55</td>\n",
       "      <td>15916</td>\n",
       "      <td>Store</td>\n",
       "      <td>TN</td>\n",
       "      <td>2010-12-08</td>\n",
       "      <td>-11.10</td>\n",
       "      <td>-2</td>\n",
       "    </tr>\n",
       "    <tr>\n",
       "      <th>411</th>\n",
       "      <td>C566280</td>\n",
       "      <td>22723</td>\n",
       "      <td>SET OF 6 HERB TINS SKETCHBOOK</td>\n",
       "      <td>3.95</td>\n",
       "      <td>12748</td>\n",
       "      <td>Store</td>\n",
       "      <td>CA</td>\n",
       "      <td>2011-09-11</td>\n",
       "      <td>-31.60</td>\n",
       "      <td>-8</td>\n",
       "    </tr>\n",
       "  </tbody>\n",
       "</table>\n",
       "</div>"
      ],
      "text/plain": [
       "    SalesOrder     SKU                    Description  UnitPrice  CustomerID  \\\n",
       "166    C573283   22776  SWEETHEART 3 TIER CAKE STAND        9.95       18030   \n",
       "184    C538341   22726     ALARM CLOCK BAKELIKE GREEN       3.75       15514   \n",
       "247    C569114   22832      BROCANTE SHELF WITH HOOKS      10.75       14911   \n",
       "356    C537788  16202E             BLACK PHOTO ALBUM        5.55       15916   \n",
       "411    C566280   22723  SET OF 6 HERB TINS SKETCHBOOK       3.95       12748   \n",
       "\n",
       "    Channel State  InvoiceDay  Sales  Quantity  \n",
       "166   Email    IL  2011-10-28 -19.90        -2  \n",
       "184     SEO    CA  2010-12-10 -18.75        -5  \n",
       "247   Email    CA  2011-09-30 -43.00        -4  \n",
       "356   Store    TN  2010-12-08 -11.10        -2  \n",
       "411   Store    CA  2011-09-11 -31.60        -8  "
      ]
     },
     "execution_count": 38,
     "metadata": {},
     "output_type": "execute_result"
    }
   ],
   "source": [
    "df[df.Quantity < 0].head()"
   ]
  },
  {
   "cell_type": "markdown",
   "id": "ca9208ef",
   "metadata": {},
   "source": [
    "Looks like the `SalesOrder` value for refunds begins with a `C`. But let's confirm that:"
   ]
  },
  {
   "cell_type": "code",
   "execution_count": 39,
   "id": "9b301a91",
   "metadata": {},
   "outputs": [
    {
     "data": {
      "text/plain": [
       "False"
      ]
     },
     "execution_count": 39,
     "metadata": {},
     "output_type": "execute_result"
    }
   ],
   "source": [
    "# are SalesOrder values that start with a C all negative?\n",
    "df_sc = df[df.SalesOrder.apply(lambda x: x[0] == 'C')]\n",
    "(df_sc.Sales < 0).all()"
   ]
  },
  {
   "cell_type": "code",
   "execution_count": 40,
   "id": "3569803c",
   "metadata": {},
   "outputs": [
    {
     "data": {
      "text/plain": [
       "True"
      ]
     },
     "execution_count": 40,
     "metadata": {},
     "output_type": "execute_result"
    }
   ],
   "source": [
    "# are SalesOrder values that start with a C all negative or 0?\n",
    "(df_sc.Sales <= 0).all()"
   ]
  },
  {
   "cell_type": "code",
   "execution_count": 41,
   "id": "07edd956",
   "metadata": {},
   "outputs": [
    {
     "data": {
      "text/plain": [
       "False"
      ]
     },
     "execution_count": 41,
     "metadata": {},
     "output_type": "execute_result"
    }
   ],
   "source": [
    "# are SalesOrder values that don't start with a C all positive?\n",
    "df_nc = df[df.SalesOrder.apply(lambda x: x[0] != 'C')]\n",
    "(df_nc.Sales > 0).all()"
   ]
  },
  {
   "cell_type": "markdown",
   "id": "7dedb760",
   "metadata": {},
   "source": [
    "Looks like refunds can have either a negative `Quantity` and `Sales` value, or one of 0. But refunds with an amount of 0 don't make much sense. Let's look at them:"
   ]
  },
  {
   "cell_type": "code",
   "execution_count": 42,
   "id": "d2564927",
   "metadata": {},
   "outputs": [
    {
     "name": "stdout",
     "output_type": "stream",
     "text": [
      "24 rows have a Quantity of 0.\n"
     ]
    },
    {
     "data": {
      "text/html": [
       "<div>\n",
       "<style scoped>\n",
       "    .dataframe tbody tr th:only-of-type {\n",
       "        vertical-align: middle;\n",
       "    }\n",
       "\n",
       "    .dataframe tbody tr th {\n",
       "        vertical-align: top;\n",
       "    }\n",
       "\n",
       "    .dataframe thead th {\n",
       "        text-align: right;\n",
       "    }\n",
       "</style>\n",
       "<table border=\"1\" class=\"dataframe\">\n",
       "  <thead>\n",
       "    <tr style=\"text-align: right;\">\n",
       "      <th></th>\n",
       "      <th>SalesOrder</th>\n",
       "      <th>SKU</th>\n",
       "      <th>Description</th>\n",
       "      <th>UnitPrice</th>\n",
       "      <th>CustomerID</th>\n",
       "      <th>Channel</th>\n",
       "      <th>State</th>\n",
       "      <th>InvoiceDay</th>\n",
       "      <th>Sales</th>\n",
       "      <th>Quantity</th>\n",
       "    </tr>\n",
       "  </thead>\n",
       "  <tbody>\n",
       "    <tr>\n",
       "      <th>625</th>\n",
       "      <td>542608</td>\n",
       "      <td>21175</td>\n",
       "      <td>GIN + TONIC DIET METAL SIGN</td>\n",
       "      <td>2.10</td>\n",
       "      <td>16770</td>\n",
       "      <td>Display</td>\n",
       "      <td>FL</td>\n",
       "      <td>2011-01-30</td>\n",
       "      <td>0.0</td>\n",
       "      <td>0</td>\n",
       "    </tr>\n",
       "    <tr>\n",
       "      <th>10443</th>\n",
       "      <td>570482</td>\n",
       "      <td>21930</td>\n",
       "      <td>JUMBO STORAGE BAG SKULLS</td>\n",
       "      <td>2.08</td>\n",
       "      <td>17459</td>\n",
       "      <td>Display</td>\n",
       "      <td>IL</td>\n",
       "      <td>2011-10-10</td>\n",
       "      <td>0.0</td>\n",
       "      <td>0</td>\n",
       "    </tr>\n",
       "    <tr>\n",
       "      <th>11021</th>\n",
       "      <td>570488</td>\n",
       "      <td>85173</td>\n",
       "      <td>SET/6 FROG PRINCE T-LIGHT CANDLES</td>\n",
       "      <td>4.96</td>\n",
       "      <td>14096</td>\n",
       "      <td>Display</td>\n",
       "      <td>TX</td>\n",
       "      <td>2011-10-10</td>\n",
       "      <td>0.0</td>\n",
       "      <td>0</td>\n",
       "    </tr>\n",
       "    <tr>\n",
       "      <th>16806</th>\n",
       "      <td>538015</td>\n",
       "      <td>22777</td>\n",
       "      <td>GLASS CLOCHE LARGE</td>\n",
       "      <td>8.50</td>\n",
       "      <td>13240</td>\n",
       "      <td>Display</td>\n",
       "      <td>CA</td>\n",
       "      <td>2010-12-09</td>\n",
       "      <td>0.0</td>\n",
       "      <td>0</td>\n",
       "    </tr>\n",
       "    <tr>\n",
       "      <th>59354</th>\n",
       "      <td>542607</td>\n",
       "      <td>22770</td>\n",
       "      <td>MIRROR CORNICE</td>\n",
       "      <td>14.95</td>\n",
       "      <td>13148</td>\n",
       "      <td>Display</td>\n",
       "      <td>CA</td>\n",
       "      <td>2011-01-30</td>\n",
       "      <td>0.0</td>\n",
       "      <td>0</td>\n",
       "    </tr>\n",
       "  </tbody>\n",
       "</table>\n",
       "</div>"
      ],
      "text/plain": [
       "      SalesOrder    SKU                        Description  UnitPrice  \\\n",
       "625       542608  21175        GIN + TONIC DIET METAL SIGN       2.10   \n",
       "10443     570482  21930           JUMBO STORAGE BAG SKULLS       2.08   \n",
       "11021     570488  85173  SET/6 FROG PRINCE T-LIGHT CANDLES       4.96   \n",
       "16806     538015  22777                 GLASS CLOCHE LARGE       8.50   \n",
       "59354     542607  22770                     MIRROR CORNICE      14.95   \n",
       "\n",
       "       CustomerID  Channel State  InvoiceDay  Sales  Quantity  \n",
       "625         16770  Display    FL  2011-01-30    0.0         0  \n",
       "10443       17459  Display    IL  2011-10-10    0.0         0  \n",
       "11021       14096  Display    TX  2011-10-10    0.0         0  \n",
       "16806       13240  Display    CA  2010-12-09    0.0         0  \n",
       "59354       13148  Display    CA  2011-01-30    0.0         0  "
      ]
     },
     "execution_count": 42,
     "metadata": {},
     "output_type": "execute_result"
    }
   ],
   "source": [
    "print(f\"{df[df.Quantity == 0].shape[0]} rows have a Quantity of 0.\")\n",
    "df[df.Quantity == 0].head()"
   ]
  },
  {
   "cell_type": "markdown",
   "id": "8cdd2818",
   "metadata": {},
   "source": [
    "These rows don't really contain any information, so we'll drop them too."
   ]
  },
  {
   "cell_type": "code",
   "execution_count": 43,
   "id": "4fc9d10e",
   "metadata": {},
   "outputs": [],
   "source": [
    "df = df[df.Quantity != 0].reset_index(drop=True)"
   ]
  },
  {
   "cell_type": "markdown",
   "id": "89d143db",
   "metadata": {},
   "source": [
    "Next, let's confirm that `Sales` is equal to `Quantity` times `UnitPrice`:"
   ]
  },
  {
   "cell_type": "code",
   "execution_count": 44,
   "id": "15c16c7e",
   "metadata": {
    "scrolled": true
   },
   "outputs": [
    {
     "data": {
      "text/plain": [
       "False"
      ]
     },
     "execution_count": 44,
     "metadata": {},
     "output_type": "execute_result"
    }
   ],
   "source": [
    "# check Sales equals Quantity * UnitPrice\n",
    "all(df.Sales == (df.Quantity * df.UnitPrice))"
   ]
  },
  {
   "cell_type": "code",
   "execution_count": 49,
   "id": "1d6bd550",
   "metadata": {},
   "outputs": [
    {
     "name": "stdout",
     "output_type": "stream",
     "text": [
      "29957 of 256639 rows do not meet this critera.\n"
     ]
    },
    {
     "data": {
      "text/html": [
       "<div>\n",
       "<style scoped>\n",
       "    .dataframe tbody tr th:only-of-type {\n",
       "        vertical-align: middle;\n",
       "    }\n",
       "\n",
       "    .dataframe tbody tr th {\n",
       "        vertical-align: top;\n",
       "    }\n",
       "\n",
       "    .dataframe thead th {\n",
       "        text-align: right;\n",
       "    }\n",
       "</style>\n",
       "<table border=\"1\" class=\"dataframe\">\n",
       "  <thead>\n",
       "    <tr style=\"text-align: right;\">\n",
       "      <th></th>\n",
       "      <th>SalesOrder</th>\n",
       "      <th>SKU</th>\n",
       "      <th>Description</th>\n",
       "      <th>UnitPrice</th>\n",
       "      <th>CustomerID</th>\n",
       "      <th>Channel</th>\n",
       "      <th>State</th>\n",
       "      <th>InvoiceDay</th>\n",
       "      <th>Sales</th>\n",
       "      <th>Quantity</th>\n",
       "    </tr>\n",
       "  </thead>\n",
       "  <tbody>\n",
       "    <tr>\n",
       "      <th>0</th>\n",
       "      <td>580636</td>\n",
       "      <td>22474</td>\n",
       "      <td>SPACEBOY TV DINNER TRAY</td>\n",
       "      <td>1.95</td>\n",
       "      <td>16746</td>\n",
       "      <td>Mailing</td>\n",
       "      <td>IL</td>\n",
       "      <td>2011-12-05</td>\n",
       "      <td>31.20</td>\n",
       "      <td>16</td>\n",
       "    </tr>\n",
       "    <tr>\n",
       "      <th>1</th>\n",
       "      <td>581426</td>\n",
       "      <td>70006</td>\n",
       "      <td>LOVE HEART POCKET WARMER</td>\n",
       "      <td>0.79</td>\n",
       "      <td>17757</td>\n",
       "      <td>Organic Social</td>\n",
       "      <td>WA</td>\n",
       "      <td>2011-12-08</td>\n",
       "      <td>2.37</td>\n",
       "      <td>3</td>\n",
       "    </tr>\n",
       "    <tr>\n",
       "      <th>2</th>\n",
       "      <td>575063</td>\n",
       "      <td>22697</td>\n",
       "      <td>GREEN REGENCY TEACUP AND SAUCER</td>\n",
       "      <td>2.95</td>\n",
       "      <td>16764</td>\n",
       "      <td>Display</td>\n",
       "      <td>TX</td>\n",
       "      <td>2011-11-08</td>\n",
       "      <td>8.85</td>\n",
       "      <td>3</td>\n",
       "    </tr>\n",
       "    <tr>\n",
       "      <th>3</th>\n",
       "      <td>544065</td>\n",
       "      <td>20726</td>\n",
       "      <td>LUNCH BAG WOODLAND</td>\n",
       "      <td>1.65</td>\n",
       "      <td>14346</td>\n",
       "      <td>Organic Social</td>\n",
       "      <td>TX</td>\n",
       "      <td>2011-02-15</td>\n",
       "      <td>13.20</td>\n",
       "      <td>8</td>\n",
       "    </tr>\n",
       "    <tr>\n",
       "      <th>4</th>\n",
       "      <td>568896</td>\n",
       "      <td>85049E</td>\n",
       "      <td>SCANDINAVIAN REDS RIBBONS</td>\n",
       "      <td>1.25</td>\n",
       "      <td>16361</td>\n",
       "      <td>Store</td>\n",
       "      <td>NY</td>\n",
       "      <td>2011-09-29</td>\n",
       "      <td>52.50</td>\n",
       "      <td>42</td>\n",
       "    </tr>\n",
       "  </tbody>\n",
       "</table>\n",
       "</div>"
      ],
      "text/plain": [
       "  SalesOrder     SKU                      Description  UnitPrice  CustomerID  \\\n",
       "0     580636   22474          SPACEBOY TV DINNER TRAY       1.95       16746   \n",
       "1     581426   70006         LOVE HEART POCKET WARMER       0.79       17757   \n",
       "2     575063   22697  GREEN REGENCY TEACUP AND SAUCER       2.95       16764   \n",
       "3     544065   20726               LUNCH BAG WOODLAND       1.65       14346   \n",
       "4     568896  85049E        SCANDINAVIAN REDS RIBBONS       1.25       16361   \n",
       "\n",
       "          Channel State  InvoiceDay  Sales  Quantity  \n",
       "0         Mailing    IL  2011-12-05  31.20        16  \n",
       "1  Organic Social    WA  2011-12-08   2.37         3  \n",
       "2         Display    TX  2011-11-08   8.85         3  \n",
       "3  Organic Social    TX  2011-02-15  13.20         8  \n",
       "4           Store    NY  2011-09-29  52.50        42  "
      ]
     },
     "execution_count": 49,
     "metadata": {},
     "output_type": "execute_result"
    }
   ],
   "source": [
    "# examine rows where Sales != Quantity * UnitPrice\n",
    "print(f\"{df[df.Sales != (df.Quantity * df.UnitPrice)].shape[0]} of {df.shape[0]} rows do not meet this critera.\")\n",
    "df[df.Sales != ()].head()"
   ]
  },
  {
   "cell_type": "markdown",
   "id": "ed2b37fb",
   "metadata": {},
   "source": [
    "Looks like we can chalk the issue above to a Python rounding error, as these `Sales` values look right."
   ]
  },
  {
   "cell_type": "markdown",
   "id": "5ccb9a66",
   "metadata": {},
   "source": [
    "I think that's good for an inital pass at cleaning. Let's kick this over to a new notebook (`section_1b.ipynb`) for exploration.\n",
    "\n",
    "**Note**: John M. clarified that the number of different channels for a sale can be exaggerated as it's a manufactured dataset."
   ]
  }
 ],
 "metadata": {
  "kernelspec": {
   "display_name": "Python 3 (ipykernel)",
   "language": "python",
   "name": "python3"
  },
  "language_info": {
   "codemirror_mode": {
    "name": "ipython",
    "version": 3
   },
   "file_extension": ".py",
   "mimetype": "text/x-python",
   "name": "python",
   "nbconvert_exporter": "python",
   "pygments_lexer": "ipython3",
   "version": "3.8.2"
  }
 },
 "nbformat": 4,
 "nbformat_minor": 5
}
